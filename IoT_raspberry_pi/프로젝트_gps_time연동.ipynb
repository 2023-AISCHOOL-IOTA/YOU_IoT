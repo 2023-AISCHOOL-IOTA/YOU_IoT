{
 "cells": [
  {
   "cell_type": "code",
   "execution_count": 2,
   "id": "4106b14a",
   "metadata": {},
   "outputs": [],
   "source": [
    "import pymysql as ps\n",
    "import requests\n",
    "import time"
   ]
  },
  {
   "cell_type": "code",
   "execution_count": 3,
   "id": "6de371c5",
   "metadata": {},
   "outputs": [],
   "source": [
    "#db와 연동해서 시작점, 끝점, 허용시간 테이블 받아옴\n",
    "db = ps.connect(\n",
    "    host=\"project-db-stu3.smhrd.com\", user=\"Insa4_IOTA_hacksim_3\", passwd=\"aishcool3\", db=\"Insa4_IOTA_hacksim_3\", charset=\"utf8mb4\",\n",
    "    port = 3307\n",
    ")\n",
    "cursor=db.cursor()\n",
    "sql='select start_p from street_park'\n",
    "cursor.execute(sql)\n",
    "start_street_data=cursor.fetchall()\n",
    "cursor=db.cursor()\n",
    "sql='select end_p from street_park'\n",
    "cursor.execute(sql)\n",
    "end_street_data=cursor.fetchall()\n",
    "cursor=db.cursor()\n",
    "sql='select street_id, permit_t from street_park'\n",
    "cursor.execute(sql)\n",
    "permit_time=cursor.fetchall()"
   ]
  },
  {
   "cell_type": "code",
   "execution_count": 4,
   "id": "cb6b6b13",
   "metadata": {},
   "outputs": [],
   "source": [
    "#시작점, 끝점 gps좌표를 담아둘 리스트\n",
    "street_start_point=[]\n",
    "street_end_point=[]\n",
    "#현재 위치가 어느 지점에 속해있는지 확인하는 변수\n",
    "target_point=0\n",
    "#gps 모듈에서 받아온 값을 담아둘 변수\n",
    "longitude_now=0\n",
    "latitude_now=0"
   ]
  },
  {
   "cell_type": "code",
   "execution_count": 5,
   "id": "d352270c",
   "metadata": {},
   "outputs": [],
   "source": [
    "#카카오맵 api를 이용해서 도로명주소를 위도,경도로 변환하는 함수\n",
    "def address_to_gps_coordinates_kakao(address, api_key):\n",
    "    url = \"https://dapi.kakao.com/v2/local/search/address.json\"\n",
    "    headers = {\n",
    "        \"Authorization\": f\"KakaoAK {api_key}\"\n",
    "    }\n",
    "    params = {\n",
    "        \"query\": address\n",
    "    }\n",
    "\n",
    "    response = requests.get(url, headers=headers, params=params)\n",
    "    data = response.json()\n",
    "\n",
    "    if data.get(\"documents\"):\n",
    "        first_result = data[\"documents\"][0]\n",
    "        latitude = first_result[\"y\"]\n",
    "        longitude = first_result[\"x\"]\n",
    "        return float(latitude), float(longitude)\n",
    "    else:\n",
    "        return None\n",
    "# 카카오 API 키를 발급받은 후 아래에 적절한 값을 넣어주세요\n",
    "kakao_api_key = \"2423ceacbff8cf8f6ed1aa8bd18a242b\"\n",
    "\n",
    "#현재 gps좌표가 어느 구간에 있는지 확인하는 함수\n",
    "def is_inside_rectangle(point1, point2, target_point):\n",
    "    min_x = min(point1[0], point2[0])\n",
    "    max_x = max(point1[0], point2[0])\n",
    "    min_y = min(point1[1], point2[1])\n",
    "    max_y = max(point1[1], point2[1])\n",
    "\n",
    "    if min_x <= target_point[0] <= max_x and min_y <= target_point[1] <= max_y:\n",
    "        return True\n",
    "    return False\n"
   ]
  },
  {
   "cell_type": "code",
   "execution_count": 6,
   "id": "4bb06c2b",
   "metadata": {},
   "outputs": [],
   "source": [
    "#현재 gps 모듈이 없어서 임의의 gps값 설정\n",
    "longitude_now=126.8398\n",
    "latitude_now=35.1470000"
   ]
  },
  {
   "cell_type": "code",
   "execution_count": 7,
   "id": "8b25ee65",
   "metadata": {},
   "outputs": [],
   "source": [
    "#시작점 변환 후 담아주기\n",
    "addresses = start_street_data\n",
    "for address in addresses:\n",
    "    coordinates = address_to_gps_coordinates_kakao(address, kakao_api_key)\n",
    "    if coordinates:\n",
    "        latitude, longitude = coordinates\n",
    "        street_start_point.append((longitude,latitude))"
   ]
  },
  {
   "cell_type": "code",
   "execution_count": 8,
   "id": "9c04ea32",
   "metadata": {},
   "outputs": [],
   "source": [
    "#끝점 변환 후 담아주기\n",
    "addresses = end_street_data\n",
    "for address in addresses:\n",
    "    coordinates = address_to_gps_coordinates_kakao(address, kakao_api_key)\n",
    "    if coordinates:\n",
    "        latitude, longitude = coordinates\n",
    "        street_end_point.append((longitude,latitude))"
   ]
  },
  {
   "cell_type": "code",
   "execution_count": 9,
   "id": "0d145b13",
   "metadata": {},
   "outputs": [],
   "source": [
    "#현재 gps좌표가 어느 노상주차 허용구간에 있는지 확인\n",
    "for i in range(len(street_start_point)):\n",
    "    start_point = street_start_point[i]\n",
    "    end_point = street_end_point[i]\n",
    "    now_point = (longitude_now,latitude_now)\n",
    "    if is_inside_rectangle(start_point, end_point, now_point):\n",
    "        target_point+=i+1"
   ]
  },
  {
   "cell_type": "code",
   "execution_count": 10,
   "id": "e72c13dd",
   "metadata": {},
   "outputs": [],
   "source": [
    "#gps좌표 index로 허용시간 찾기\n",
    "cursor=db.cursor()\n",
    "sql=f'select street_id, permit_t from street_park where street_id={target_point}'\n",
    "cursor.execute(sql)\n",
    "permit_time_here=cursor.fetchall()"
   ]
  },
  {
   "cell_type": "code",
   "execution_count": 11,
   "id": "beec9f74",
   "metadata": {},
   "outputs": [
    {
     "name": "stdout",
     "output_type": "stream",
     "text": [
      "16\n"
     ]
    }
   ],
   "source": [
    "#현재 시간 받아서 now 변수에 담아주기.\n",
    "now=time\n",
    "now_hour=now.localtime().tm_hour\n",
    "print(now_hour)"
   ]
  },
  {
   "cell_type": "code",
   "execution_count": 12,
   "id": "af0720d4",
   "metadata": {
    "scrolled": true
   },
   "outputs": [
    {
     "name": "stdout",
     "output_type": "stream",
     "text": [
      "((3, '06:00~22:00'),)\n"
     ]
    }
   ],
   "source": [
    "print(permit_time_here)"
   ]
  },
  {
   "cell_type": "code",
   "execution_count": 13,
   "id": "87cadf0c",
   "metadata": {},
   "outputs": [
    {
     "data": {
      "text/plain": [
       "'06:00~22:00'"
      ]
     },
     "execution_count": 13,
     "metadata": {},
     "output_type": "execute_result"
    }
   ],
   "source": [
    "permit_time_here[0][1]"
   ]
  },
  {
   "cell_type": "code",
   "execution_count": 14,
   "id": "167890e7",
   "metadata": {},
   "outputs": [
    {
     "name": "stdout",
     "output_type": "stream",
     "text": [
      "주차가 가능한 시간입니다. led on\n"
     ]
    }
   ],
   "source": [
    "if len(permit_time_here[0][1])>12:\n",
    "    if now_hour>=int(permit_time_here[0][1][13:15]) or now_hour<=int(permit_time_here[0][1][19:21]) :\n",
    "        print('주차가 가능한 시간입니다. led on',end=' ')\n",
    "    else :\n",
    "        print('주차가 가능한 시간이 아닙니다. led off',end=' ')\n",
    "if int(permit_time_here[0][1][:2])<int(permit_time[0][1][6:8]):\n",
    "    if now_hour>=int(permit_time_here[0][1][:2]) and now_hour<=int(permit_time_here[0][1][6:8]) :\n",
    "        print('주차가 가능한 시간입니다. led on')\n",
    "    else :\n",
    "        print('주차가 가능한 시간이 아닙니다. led off')\n",
    "else :\n",
    "    if now_hour>=int(permit_time_here[0][1][:2]) or now_hour<=int(permit_time_here[0][1][6:8]) :\n",
    "        print('주차가 가능한 시간입니다. led on')\n",
    "    else :\n",
    "        print('주차가 가능한 시간이 아닙니다. led off')"
   ]
  },
  {
   "cell_type": "code",
   "execution_count": 40,
   "id": "13ba1d9e",
   "metadata": {},
   "outputs": [
    {
     "ename": "InterfaceError",
     "evalue": "(0, '')",
     "output_type": "error",
     "traceback": [
      "\u001b[1;31m---------------------------------------------------------------------------\u001b[0m",
      "\u001b[1;31mInterfaceError\u001b[0m                            Traceback (most recent call last)",
      "Cell \u001b[1;32mIn[40], line 2\u001b[0m\n\u001b[0;32m      1\u001b[0m \u001b[38;5;66;03m#끝내기전에 db와 연결종료\u001b[39;00m\n\u001b[1;32m----> 2\u001b[0m \u001b[43mdb\u001b[49m\u001b[38;5;241;43m.\u001b[39;49m\u001b[43mcommit\u001b[49m\u001b[43m(\u001b[49m\u001b[43m)\u001b[49m\n\u001b[0;32m      3\u001b[0m db\u001b[38;5;241m.\u001b[39mclose()\n",
      "File \u001b[1;32m~\\anaconda3\\lib\\site-packages\\pymysql\\connections.py:477\u001b[0m, in \u001b[0;36mConnection.commit\u001b[1;34m(self)\u001b[0m\n\u001b[0;32m    470\u001b[0m \u001b[38;5;28;01mdef\u001b[39;00m \u001b[38;5;21mcommit\u001b[39m(\u001b[38;5;28mself\u001b[39m):\n\u001b[0;32m    471\u001b[0m     \u001b[38;5;124;03m\"\"\"\u001b[39;00m\n\u001b[0;32m    472\u001b[0m \u001b[38;5;124;03m    Commit changes to stable storage.\u001b[39;00m\n\u001b[0;32m    473\u001b[0m \n\u001b[0;32m    474\u001b[0m \u001b[38;5;124;03m    See `Connection.commit() <https://www.python.org/dev/peps/pep-0249/#commit>`_\u001b[39;00m\n\u001b[0;32m    475\u001b[0m \u001b[38;5;124;03m    in the specification.\u001b[39;00m\n\u001b[0;32m    476\u001b[0m \u001b[38;5;124;03m    \"\"\"\u001b[39;00m\n\u001b[1;32m--> 477\u001b[0m     \u001b[38;5;28;43mself\u001b[39;49m\u001b[38;5;241;43m.\u001b[39;49m\u001b[43m_execute_command\u001b[49m\u001b[43m(\u001b[49m\u001b[43mCOMMAND\u001b[49m\u001b[38;5;241;43m.\u001b[39;49m\u001b[43mCOM_QUERY\u001b[49m\u001b[43m,\u001b[49m\u001b[43m \u001b[49m\u001b[38;5;124;43m\"\u001b[39;49m\u001b[38;5;124;43mCOMMIT\u001b[39;49m\u001b[38;5;124;43m\"\u001b[39;49m\u001b[43m)\u001b[49m\n\u001b[0;32m    478\u001b[0m     \u001b[38;5;28mself\u001b[39m\u001b[38;5;241m.\u001b[39m_read_ok_packet()\n",
      "File \u001b[1;32m~\\anaconda3\\lib\\site-packages\\pymysql\\connections.py:840\u001b[0m, in \u001b[0;36mConnection._execute_command\u001b[1;34m(self, command, sql)\u001b[0m\n\u001b[0;32m    835\u001b[0m \u001b[38;5;124;03m\"\"\"\u001b[39;00m\n\u001b[0;32m    836\u001b[0m \u001b[38;5;124;03m:raise InterfaceError: If the connection is closed.\u001b[39;00m\n\u001b[0;32m    837\u001b[0m \u001b[38;5;124;03m:raise ValueError: If no username was specified.\u001b[39;00m\n\u001b[0;32m    838\u001b[0m \u001b[38;5;124;03m\"\"\"\u001b[39;00m\n\u001b[0;32m    839\u001b[0m \u001b[38;5;28;01mif\u001b[39;00m \u001b[38;5;129;01mnot\u001b[39;00m \u001b[38;5;28mself\u001b[39m\u001b[38;5;241m.\u001b[39m_sock:\n\u001b[1;32m--> 840\u001b[0m     \u001b[38;5;28;01mraise\u001b[39;00m err\u001b[38;5;241m.\u001b[39mInterfaceError(\u001b[38;5;241m0\u001b[39m, \u001b[38;5;124m\"\u001b[39m\u001b[38;5;124m\"\u001b[39m)\n\u001b[0;32m    842\u001b[0m \u001b[38;5;66;03m# If the last query was unbuffered, make sure it finishes before\u001b[39;00m\n\u001b[0;32m    843\u001b[0m \u001b[38;5;66;03m# sending new commands\u001b[39;00m\n\u001b[0;32m    844\u001b[0m \u001b[38;5;28;01mif\u001b[39;00m \u001b[38;5;28mself\u001b[39m\u001b[38;5;241m.\u001b[39m_result \u001b[38;5;129;01mis\u001b[39;00m \u001b[38;5;129;01mnot\u001b[39;00m \u001b[38;5;28;01mNone\u001b[39;00m:\n",
      "\u001b[1;31mInterfaceError\u001b[0m: (0, '')"
     ]
    }
   ],
   "source": [
    "#끝내기전에 db와 연결종료\n",
    "db.commit()\n",
    "db.close()"
   ]
  }
 ],
 "metadata": {
  "kernelspec": {
   "display_name": "Python 3 (ipykernel)",
   "language": "python",
   "name": "python3"
  },
  "language_info": {
   "codemirror_mode": {
    "name": "ipython",
    "version": 3
   },
   "file_extension": ".py",
   "mimetype": "text/x-python",
   "name": "python",
   "nbconvert_exporter": "python",
   "pygments_lexer": "ipython3",
   "version": "3.10.9"
  }
 },
 "nbformat": 4,
 "nbformat_minor": 5
}
